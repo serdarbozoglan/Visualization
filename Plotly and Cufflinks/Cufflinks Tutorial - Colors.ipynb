{
 "cells": [
  {
   "cell_type": "markdown",
   "metadata": {},
   "source": [
    "## Cufflinks Colors\n",
    "\n",
    "Cufflinks also provides a wide set of tools for color managements; including color conversion across multiple spectrums and color table generation."
   ]
  },
  {
   "cell_type": "code",
   "execution_count": 1,
   "metadata": {},
   "outputs": [],
   "source": [
    "import cufflinks as cf"
   ]
  },
  {
   "cell_type": "markdown",
   "metadata": {},
   "source": [
    "Colors can be represented as strings:\n",
    "\n",
    "**HEX** `\"#db4052\"`  \n",
    "**RGB** `\"rgb(219, 64, 82)\"`  \n",
    "**RGBA** `\"rgba(219, 64, 82, 1.0)\"`  \n"
   ]
  },
  {
   "cell_type": "markdown",
   "metadata": {},
   "source": [
    "### Color Conversions"
   ]
  },
  {
   "cell_type": "code",
   "execution_count": 2,
   "metadata": {},
   "outputs": [
    {
     "data": {
      "text/plain": [
       "{'aliceblue': '#F0F8FF',\n",
       " 'antiquewhite': '#FAEBD7',\n",
       " 'aqua': '#00FFFF',\n",
       " 'aquamarine': '#7FFFD4',\n",
       " 'azure': '#F0FFFF',\n",
       " 'beige': '#F5F5DC',\n",
       " 'bisque': '#FFE4C4',\n",
       " 'black': '#000000',\n",
       " 'blanchedalmond': '#FFEBCD',\n",
       " 'blue': '#3780bf',\n",
       " 'bluegray': '#565656',\n",
       " 'bluepurple': '#6432AB',\n",
       " 'blueviolet': '#8A2BE2',\n",
       " 'brick': '#E24A33',\n",
       " 'brightblue': '#0000FF',\n",
       " 'brightred': '#FF0000',\n",
       " 'brown': '#A52A2A',\n",
       " 'burlywood': '#DEB887',\n",
       " 'cadetblue': '#5F9EA0',\n",
       " 'charcoal': '#151516',\n",
       " 'chartreuse': '#7FFF00',\n",
       " 'chocolate': '#D2691E',\n",
       " 'coral': '#FF7F50',\n",
       " 'cornflowerblue': '#6495ED',\n",
       " 'cornsilk': '#FFF8DC',\n",
       " 'crimson': '#DC143C',\n",
       " 'cyan': '#00FFFF',\n",
       " 'darkblue': '#00008B',\n",
       " 'darkcyan': '#008B8B',\n",
       " 'darkgoldenrod': '#B8860B',\n",
       " 'darkgray': '#A9A9A9',\n",
       " 'darkgreen': '#006400',\n",
       " 'darkgrey': '#A9A9A9',\n",
       " 'darkkhaki': '#BDB76B',\n",
       " 'darkmagenta': '#8B008B',\n",
       " 'darkolivegreen': '#556B2F',\n",
       " 'darkorange': '#FF8C00',\n",
       " 'darkorchid': '#9932CC',\n",
       " 'darkred': '#8B0000',\n",
       " 'darksalmon': '#E9967A',\n",
       " 'darkseagreen': '#8FBC8F',\n",
       " 'darkslateblue': '#483D8B',\n",
       " 'darkslategray': '#2F4F4F',\n",
       " 'darkslategrey': '#2F4F4F',\n",
       " 'darkturquoise': '#00CED1',\n",
       " 'darkviolet': '#9400D3',\n",
       " 'deeppink': '#FF1493',\n",
       " 'deepskyblue': '#00BFFF',\n",
       " 'dimgray': '#696969',\n",
       " 'dimgrey': '#696969',\n",
       " 'dodgerblue': '#1E90FF',\n",
       " 'firebrick': '#B22222',\n",
       " 'floralwhite': '#FFFAF0',\n",
       " 'forestgreen': '#228B22',\n",
       " 'fuchsia': '#FF00FF',\n",
       " 'gainsboro': '#DCDCDC',\n",
       " 'ghostwhite': '#F8F8FF',\n",
       " 'gold': '#FFD700',\n",
       " 'goldenrod': '#DAA520',\n",
       " 'grassgreen': '#32ab60',\n",
       " 'gray': '#808080',\n",
       " 'green': '#008000',\n",
       " 'greenyellow': '#ADFF2F',\n",
       " 'grey': '#808080',\n",
       " 'grey01': '#0A0A0A',\n",
       " 'grey02': '#151516',\n",
       " 'grey03': '#1A1A1C',\n",
       " 'grey04': '#1E1E21',\n",
       " 'grey05': '#252529',\n",
       " 'grey06': '#36363C',\n",
       " 'grey07': '#3C3C42',\n",
       " 'grey08': '#434343',\n",
       " 'grey09': '#666570',\n",
       " 'grey10': '#666666',\n",
       " 'grey11': '#8C8C8C',\n",
       " 'grey12': '#C2C2C2',\n",
       " 'grey13': '#E2E2E2',\n",
       " 'grey14': '#E5E5E5',\n",
       " 'honeydew': '#F0FFF0',\n",
       " 'hotpink': '#FF69B4',\n",
       " 'indianred': '#CD5C5C',\n",
       " 'indigo': '#4B0082',\n",
       " 'ivory': '#FFFFF0',\n",
       " 'java': '#17BECF',\n",
       " 'khaki': '#F0E68C',\n",
       " 'lavender': '#E6E6FA',\n",
       " 'lavenderblush': '#FFF0F5',\n",
       " 'lawngreen': '#7CFC00',\n",
       " 'lemonchiffon': '#FFFACD',\n",
       " 'lightpink2': '#fccde5',\n",
       " 'lightpurple': '#bc80bd',\n",
       " 'lightblue': '#ADD8E6',\n",
       " 'lightcoral': '#F08080',\n",
       " 'lightcyan': '#E0FFFF',\n",
       " 'lightgoldenrodyellow': '#FAFAD2',\n",
       " 'lightgray': '#D3D3D3',\n",
       " 'lightgreen': '#90EE90',\n",
       " 'lightgrey': '#D3D3D3',\n",
       " 'lightivory': '#F6F6F6',\n",
       " 'lightpink': '#FFB6C1',\n",
       " 'lightsalmon': '#FFA07A',\n",
       " 'lightseagreen': '#20B2AA',\n",
       " 'lightskyblue': '#87CEFA',\n",
       " 'lightslategray': '#778899',\n",
       " 'lightslategrey': '#778899',\n",
       " 'lightsteelblue': '#B0C4DE',\n",
       " 'lightteal': '#8dd3c7',\n",
       " 'lightyellow': '#FFFFE0',\n",
       " 'lightblue2': '#80b1d3',\n",
       " 'lightviolet': '#8476CA',\n",
       " 'lime': '#00FF00',\n",
       " 'lime2': '#8EBA42',\n",
       " 'limegreen': '#32CD32',\n",
       " 'linen': '#FAF0E6',\n",
       " 'magenta': '#FF00FF',\n",
       " 'maroon': '#800000',\n",
       " 'mediumaquamarine': '#66CDAA',\n",
       " 'mediumblue': '#0000CD',\n",
       " 'mediumgray': '#656565',\n",
       " 'mediumorchid': '#BA55D3',\n",
       " 'mediumpurple': '#9370DB',\n",
       " 'mediumseagreen': '#3CB371',\n",
       " 'mediumslateblue': '#7B68EE',\n",
       " 'mediumspringgreen': '#00FA9A',\n",
       " 'mediumturquoise': '#48D1CC',\n",
       " 'mediumvioletred': '#C71585',\n",
       " 'midnightblue': '#191970',\n",
       " 'mintcream': '#F5FFFA',\n",
       " 'mistyrose': '#FFE4E1',\n",
       " 'moccasin': '#FFE4B5',\n",
       " 'mustard': '#FBC15E',\n",
       " 'navajowhite': '#FFDEAD',\n",
       " 'navy': '#000080',\n",
       " 'oldlace': '#FDF5E6',\n",
       " 'olive': '#808000',\n",
       " 'olivedrab': '#6B8E23',\n",
       " 'orange': '#ff9933',\n",
       " 'orangered': '#FF4500',\n",
       " 'orchid': '#DA70D6',\n",
       " 'palegoldenrod': '#EEE8AA',\n",
       " 'palegreen': '#98FB98',\n",
       " 'paleolive': '#b3de69',\n",
       " 'paleturquoise': '#AFEEEE',\n",
       " 'palevioletred': '#DB7093',\n",
       " 'papayawhip': '#FFEFD5',\n",
       " 'peachpuff': '#FFDAB9',\n",
       " 'pearl': '#D9D9D9',\n",
       " 'pearl02': '#F5F6F9',\n",
       " 'pearl03': '#E1E5ED',\n",
       " 'pearl04': '#9499A3',\n",
       " 'pearl05': '#6F7B8B',\n",
       " 'pearl06': '#4D5663',\n",
       " 'peru': '#CD853F',\n",
       " 'pink': '#ff0088',\n",
       " 'pinksalmon': '#FFB5B8',\n",
       " 'plum': '#DDA0DD',\n",
       " 'polar': '#ACAFB5',\n",
       " 'polarblue': '#0080F0',\n",
       " 'polarbluelight': '#46A0F0',\n",
       " 'polarcyan': '#ADFCFC',\n",
       " 'polardark': '#484848',\n",
       " 'polardiv': '#D5D8DB',\n",
       " 'polardust': '#F2F3F7',\n",
       " 'polargrey': '#505050',\n",
       " 'polargreen': '#309054',\n",
       " 'polarorange': '#EE7600',\n",
       " 'polarpurple': '#6262DE',\n",
       " 'polarred': '#D94255',\n",
       " 'powderblue': '#B0E0E6',\n",
       " 'purple': '#800080',\n",
       " 'red': '#db4052',\n",
       " 'rose': '#FFC0CB',\n",
       " 'rosybrown': '#BC8F8F',\n",
       " 'royalblue': '#4169E1',\n",
       " 'saddlebrown': '#8B4513',\n",
       " 'salmon': '#fb8072',\n",
       " 'sandybrown': '#FAA460',\n",
       " 'seaborn': '#EAE7E4',\n",
       " 'seagreen': '#2E8B57',\n",
       " 'seashell': '#FFF5EE',\n",
       " 'sienna': '#A0522D',\n",
       " 'silver': '#C0C0C0',\n",
       " 'skyblue': '#87CEEB',\n",
       " 'slateblue': '#6A5ACD',\n",
       " 'slategray': '#708090',\n",
       " 'slategrey': '#708090',\n",
       " 'smurf': '#3E6FB0',\n",
       " 'snow': '#FFFAFA',\n",
       " 'springgreen': '#00FF7F',\n",
       " 'steelblue': '#4682B4',\n",
       " 'tan': '#D2B48C',\n",
       " 'teal': '#008080',\n",
       " 'thistle': '#D8BFD8',\n",
       " 'tomato': '#FF6347',\n",
       " 'turquoise': '#40E0D0',\n",
       " 'violet': '#EE82EE',\n",
       " 'wheat': '#F5DEB3',\n",
       " 'white': '#FFFFFF',\n",
       " 'whitesmoke': '#F5F5F5',\n",
       " 'yellow': '#ffff33',\n",
       " 'yellowgreen': '#9ACD32',\n",
       " 'henanigans_bg': '#242424',\n",
       " 'henanigans_blue1': '#5F95DE',\n",
       " 'henanigans_blue2': '#93B6E6',\n",
       " 'henanigans_cyan1': '#7EC4CF',\n",
       " 'henanigans_cyan2': '#B6ECF3',\n",
       " 'henanigans_dark1': '#040404',\n",
       " 'henanigans_dark2': '#141414',\n",
       " 'henanigans_dialog1': '#444459',\n",
       " 'henanigans_dialog2': '#5D5D7A',\n",
       " 'henanigans_green1': '#8BD155',\n",
       " 'henanigans_green2': '#A0D17B',\n",
       " 'henanigans_grey1': '#343434',\n",
       " 'henanigans_grey2': '#444444',\n",
       " 'henanigans_light1': '#A4A4A4',\n",
       " 'henanigans_light2': '#F4F4F4',\n",
       " 'henanigans_orange1': '#EB9E58',\n",
       " 'henanigans_orange2': '#EBB483',\n",
       " 'henanigans_purple1': '#C98FDE',\n",
       " 'henanigans_purple2': '#AC92DE',\n",
       " 'henanigans_red1': '#F77E70',\n",
       " 'henanigans_red2': '#DE958E',\n",
       " 'henanigans_yellow1': '#E8EA7E',\n",
       " 'henanigans_yellow2': '#E9EABE'}"
      ]
     },
     "execution_count": 2,
     "metadata": {},
     "output_type": "execute_result"
    }
   ],
   "source": [
    "# The colors module includes a pre-defined set of commonly used colors\n",
    "cf.colors.cnames"
   ]
  },
  {
   "cell_type": "code",
   "execution_count": 3,
   "metadata": {},
   "outputs": [
    {
     "data": {
      "text/plain": [
       "'rgb(219, 64, 82)'"
      ]
     },
     "execution_count": 3,
     "metadata": {},
     "output_type": "execute_result"
    }
   ],
   "source": [
    "# HEX to RGB\n",
    "cf.colors.hex_to_rgb('red')"
   ]
  },
  {
   "cell_type": "code",
   "execution_count": 4,
   "metadata": {},
   "outputs": [
    {
     "data": {
      "text/plain": [
       "'#DB4052'"
      ]
     },
     "execution_count": 4,
     "metadata": {},
     "output_type": "execute_result"
    }
   ],
   "source": [
    "# RGB to HEX\n",
    "cf.colors.rgb_to_hex('rgb(219, 64, 82)')"
   ]
  },
  {
   "cell_type": "code",
   "execution_count": 5,
   "metadata": {},
   "outputs": [
    {
     "data": {
      "text/plain": [
       "('rgba(55, 128, 191, 0.5)', 'rgba(219, 64, 82, 0.4)')"
      ]
     },
     "execution_count": 5,
     "metadata": {},
     "output_type": "execute_result"
    }
   ],
   "source": [
    "# RGB or HEX to RGBA (transparency)\n",
    "cf.colors.to_rgba('#3780bf',.5), cf.colors.to_rgba('rgb(219, 64, 82)',.4)"
   ]
  },
  {
   "cell_type": "code",
   "execution_count": 6,
   "metadata": {},
   "outputs": [
    {
     "data": {
      "text/plain": [
       "'rgb(240, 178, 185)'"
      ]
     },
     "execution_count": 6,
     "metadata": {},
     "output_type": "execute_result"
    }
   ],
   "source": [
    "# RGBA to RGB (flatten transparency)\n",
    "# By default assumes that the transparency color is *white*, however this can be also passed as a parameter. \n",
    "cf.colors.rgba_to_rgb('rgba(219, 64, 82, 0.4)','white')"
   ]
  },
  {
   "cell_type": "markdown",
   "metadata": {},
   "source": [
    "### Normalization"
   ]
  },
  {
   "cell_type": "code",
   "execution_count": 7,
   "metadata": {},
   "outputs": [
    {
     "data": {
      "text/plain": [
       "['#ff0088', '#F0B2B9', '#F0B2B9', '#008000']"
      ]
     },
     "execution_count": 7,
     "metadata": {},
     "output_type": "execute_result"
    }
   ],
   "source": [
    "# Cufflinks.colors.normalize will always return the an hex value for all types of colors\n",
    "colors=['#f08','rgb(240, 178, 185)','rgba(219, 64, 82, 0.4)','green']\n",
    "[cf.colors.normalize(c) for c in colors]"
   ]
  },
  {
   "cell_type": "markdown",
   "metadata": {},
   "source": [
    "### Color Ranges\n",
    "\n",
    "A range of colors can be generated using a base color and varying the saturation."
   ]
  },
  {
   "cell_type": "code",
   "execution_count": 8,
   "metadata": {},
   "outputs": [
    {
     "data": {
      "text/plain": [
       "['#000000',\n",
       " '#33001b',\n",
       " '#660036',\n",
       " '#990051',\n",
       " '#cc006c',\n",
       " '#ff0088',\n",
       " '#ff329f',\n",
       " '#ff65b7',\n",
       " '#ff99cf',\n",
       " '#ffcce7',\n",
       " '#ffffff']"
      ]
     },
     "execution_count": 8,
     "metadata": {},
     "output_type": "execute_result"
    }
   ],
   "source": [
    "# 10 different tones of pink\n",
    "cf.colors.color_range('pink',10)"
   ]
  },
  {
   "cell_type": "markdown",
   "metadata": {},
   "source": [
    "### Color Tables\n",
    "\n",
    "This function is meant to be used in an **iPython Notebook**.\n",
    "It generates an HTML table to display either a defined list of colors or to automatically generate a range of colors."
   ]
  },
  {
   "cell_type": "code",
   "execution_count": 9,
   "metadata": {},
   "outputs": [
    {
     "data": {
      "text/html": [
       "<ul style=\"list-style-type: none;\"><li style=\"text-align:center;line-height:30px;background-color:#ff0088;\"> \n",
       "            <span style=\" text-shadow:0 1px 0 rgba(255,255,255,0.6); color:#000000;\">#FF0088</span>\n",
       "            </li><li style=\"text-align:center;line-height:30px;background-color:#F0B2B9;\"> \n",
       "            <span style=\" text-shadow:0 1px 0 rgba(255,255,255,0.6); color:#000000;\">#F0B2B9</span>\n",
       "            </li><li style=\"text-align:center;line-height:30px;background-color:#3780bf;\"> \n",
       "            <span style=\" text-shadow:0 1px 0 rgba(255,255,255,0.6); color:#000000;\">#3780BF</span>\n",
       "            </li><li style=\"text-align:center;line-height:30px;background-color:#32ab60;\"> \n",
       "            <span style=\" text-shadow:0 1px 0 rgba(255,255,255,0.6); color:#000000;\">#32AB60</span>\n",
       "            </li></ul>"
      ],
      "text/plain": [
       "<IPython.core.display.HTML object>"
      ]
     },
     "metadata": {},
     "output_type": "display_data"
    }
   ],
   "source": [
    "# Displaying a table of defined colors (list)\n",
    "colors=['#f08', 'rgb(240, 178, 185)', 'blue' , '#32ab60']\n",
    "cf.colors.color_table(colors)"
   ]
  },
  {
   "cell_type": "code",
   "execution_count": 10,
   "metadata": {},
   "outputs": [
    {
     "data": {
      "text/html": [
       "<ul style=\"list-style-type: none;\"><li style=\"text-align:center;line-height:30px;background-color:#ffffff;\"> \n",
       "            <span style=\" text-shadow:0 1px 0 rgba(255,255,255,0.6); color:#000000;\">#FFFFFF</span>\n",
       "            </li><li style=\"text-align:center;line-height:30px;background-color:#ffeedd;\"> \n",
       "            <span style=\" text-shadow:0 1px 0 rgba(255,255,255,0.6); color:#000000;\">#FFEEDD</span>\n",
       "            </li><li style=\"text-align:center;line-height:30px;background-color:#ffddbb;\"> \n",
       "            <span style=\" text-shadow:0 1px 0 rgba(255,255,255,0.6); color:#000000;\">#FFDDBB</span>\n",
       "            </li><li style=\"text-align:center;line-height:30px;background-color:#ffcc99;\"> \n",
       "            <span style=\" text-shadow:0 1px 0 rgba(255,255,255,0.6); color:#000000;\">#FFCC99</span>\n",
       "            </li><li style=\"text-align:center;line-height:30px;background-color:#ffbb77;\"> \n",
       "            <span style=\" text-shadow:0 1px 0 rgba(255,255,255,0.6); color:#000000;\">#FFBB77</span>\n",
       "            </li><li style=\"text-align:center;line-height:30px;background-color:#ffaa55;\"> \n",
       "            <span style=\" text-shadow:0 1px 0 rgba(255,255,255,0.6); color:#000000;\">#FFAA55</span>\n",
       "            </li><li style=\"text-align:center; border: 1px solid #ffffff;line-height:30px;background-color:#ff9933;\"> \n",
       "            <span style=\" text-shadow:0 1px 0 rgba(255,255,255,0.6); color:#000000;\">#FF9933</span>\n",
       "            </li><li style=\"text-align:center;line-height:30px;background-color:#ff9932;\"> \n",
       "            <span style=\" text-shadow:0 1px 0 rgba(255,255,255,0.6); color:#000000;\">#FF9932</span>\n",
       "            </li><li style=\"text-align:center;line-height:30px;background-color:#ff8810;\"> \n",
       "            <span style=\" text-shadow:0 1px 0 rgba(255,255,255,0.6); color:#000000;\">#FF8810</span>\n",
       "            </li><li style=\"text-align:center;line-height:30px;background-color:#ee8e2f;\"> \n",
       "            <span style=\" text-shadow:0 1px 0 rgba(255,255,255,0.6); color:#000000;\">#EE8E2F</span>\n",
       "            </li><li style=\"text-align:center;line-height:30px;background-color:#cc7a28;\"> \n",
       "            <span style=\" text-shadow:0 1px 0 rgba(255,255,255,0.6); color:#000000;\">#CC7A28</span>\n",
       "            </li><li style=\"text-align:center;line-height:30px;background-color:#aa6521;\"> \n",
       "            <span style=\" text-shadow:0 1px 0 rgba(255,255,255,0.6); color:#000000;\">#AA6521</span>\n",
       "            </li><li style=\"text-align:center;line-height:30px;background-color:#88511b;\"> \n",
       "            <span style=\" text-shadow:0 1px 0 rgba(255,255,255,0.6); color:#000000;\">#88511B</span>\n",
       "            </li><li style=\"text-align:center;line-height:30px;background-color:#663d14;\"> \n",
       "            <span style=\" text-shadow:0 1px 0 #000; color:#ffffff;\">#663D14</span>\n",
       "            </li><li style=\"text-align:center;line-height:30px;background-color:#44280d;\"> \n",
       "            <span style=\" text-shadow:0 1px 0 #000; color:#ffffff;\">#44280D</span>\n",
       "            </li><li style=\"text-align:center;line-height:30px;background-color:#221406;\"> \n",
       "            <span style=\" text-shadow:0 1px 0 #000; color:#ffffff;\">#221406</span>\n",
       "            </li><li style=\"text-align:center;line-height:30px;background-color:#000000;\"> \n",
       "            <span style=\" text-shadow:0 1px 0 #000; color:#ffffff;\">#000000</span>\n",
       "            </li></ul>"
      ],
      "text/plain": [
       "<IPython.core.display.HTML object>"
      ]
     },
     "metadata": {},
     "output_type": "display_data"
    }
   ],
   "source": [
    "# Generating 15 shades of orange\n",
    "cf.colors.color_table('orange',15)"
   ]
  },
  {
   "cell_type": "markdown",
   "metadata": {},
   "source": [
    "### Color Generators\n",
    "\n",
    "A color generator can be used to produce shades of colors in an iterative form. For example when plotting N timeseries so the color used are as distinctive as possible. "
   ]
  },
  {
   "cell_type": "code",
   "execution_count": 11,
   "metadata": {},
   "outputs": [
    {
     "ename": "AttributeError",
     "evalue": "'generator' object has no attribute 'next'",
     "output_type": "error",
     "traceback": [
      "\u001b[0;31m---------------------------------------------------------------------------\u001b[0m",
      "\u001b[0;31mAttributeError\u001b[0m                            Traceback (most recent call last)",
      "\u001b[0;32m<ipython-input-11-c64a45a3397f>\u001b[0m in \u001b[0;36m<module>\u001b[0;34m()\u001b[0m\n\u001b[1;32m      2\u001b[0m \u001b[0mcolors\u001b[0m\u001b[0;34m=\u001b[0m\u001b[0;34m[\u001b[0m\u001b[0;34m'green'\u001b[0m\u001b[0;34m,\u001b[0m\u001b[0;34m'orange'\u001b[0m\u001b[0;34m,\u001b[0m\u001b[0;34m'blue'\u001b[0m\u001b[0;34m]\u001b[0m\u001b[0;34m\u001b[0m\u001b[0m\n\u001b[1;32m      3\u001b[0m \u001b[0mgen\u001b[0m\u001b[0;34m=\u001b[0m\u001b[0mcf\u001b[0m\u001b[0;34m.\u001b[0m\u001b[0mcolors\u001b[0m\u001b[0;34m.\u001b[0m\u001b[0mcolorgen\u001b[0m\u001b[0;34m(\u001b[0m\u001b[0mcolors\u001b[0m\u001b[0;34m)\u001b[0m\u001b[0;34m\u001b[0m\u001b[0m\n\u001b[0;32m----> 4\u001b[0;31m \u001b[0moutputColors\u001b[0m\u001b[0;34m=\u001b[0m\u001b[0;34m[\u001b[0m\u001b[0mgen\u001b[0m\u001b[0;34m.\u001b[0m\u001b[0mnext\u001b[0m\u001b[0;34m(\u001b[0m\u001b[0;34m)\u001b[0m \u001b[0;32mfor\u001b[0m \u001b[0m_\u001b[0m \u001b[0;32min\u001b[0m \u001b[0mrange\u001b[0m\u001b[0;34m(\u001b[0m\u001b[0;36m15\u001b[0m\u001b[0;34m)\u001b[0m\u001b[0;34m]\u001b[0m\u001b[0;34m\u001b[0m\u001b[0m\n\u001b[0m\u001b[1;32m      5\u001b[0m \u001b[0mcf\u001b[0m\u001b[0;34m.\u001b[0m\u001b[0mcolors\u001b[0m\u001b[0;34m.\u001b[0m\u001b[0mcolor_table\u001b[0m\u001b[0;34m(\u001b[0m\u001b[0moutputColors\u001b[0m\u001b[0;34m)\u001b[0m\u001b[0;34m\u001b[0m\u001b[0m\n",
      "\u001b[0;32m<ipython-input-11-c64a45a3397f>\u001b[0m in \u001b[0;36m<listcomp>\u001b[0;34m(.0)\u001b[0m\n\u001b[1;32m      2\u001b[0m \u001b[0mcolors\u001b[0m\u001b[0;34m=\u001b[0m\u001b[0;34m[\u001b[0m\u001b[0;34m'green'\u001b[0m\u001b[0;34m,\u001b[0m\u001b[0;34m'orange'\u001b[0m\u001b[0;34m,\u001b[0m\u001b[0;34m'blue'\u001b[0m\u001b[0;34m]\u001b[0m\u001b[0;34m\u001b[0m\u001b[0m\n\u001b[1;32m      3\u001b[0m \u001b[0mgen\u001b[0m\u001b[0;34m=\u001b[0m\u001b[0mcf\u001b[0m\u001b[0;34m.\u001b[0m\u001b[0mcolors\u001b[0m\u001b[0;34m.\u001b[0m\u001b[0mcolorgen\u001b[0m\u001b[0;34m(\u001b[0m\u001b[0mcolors\u001b[0m\u001b[0;34m)\u001b[0m\u001b[0;34m\u001b[0m\u001b[0m\n\u001b[0;32m----> 4\u001b[0;31m \u001b[0moutputColors\u001b[0m\u001b[0;34m=\u001b[0m\u001b[0;34m[\u001b[0m\u001b[0mgen\u001b[0m\u001b[0;34m.\u001b[0m\u001b[0mnext\u001b[0m\u001b[0;34m(\u001b[0m\u001b[0;34m)\u001b[0m \u001b[0;32mfor\u001b[0m \u001b[0m_\u001b[0m \u001b[0;32min\u001b[0m \u001b[0mrange\u001b[0m\u001b[0;34m(\u001b[0m\u001b[0;36m15\u001b[0m\u001b[0;34m)\u001b[0m\u001b[0;34m]\u001b[0m\u001b[0;34m\u001b[0m\u001b[0m\n\u001b[0m\u001b[1;32m      5\u001b[0m \u001b[0mcf\u001b[0m\u001b[0;34m.\u001b[0m\u001b[0mcolors\u001b[0m\u001b[0;34m.\u001b[0m\u001b[0mcolor_table\u001b[0m\u001b[0;34m(\u001b[0m\u001b[0moutputColors\u001b[0m\u001b[0;34m)\u001b[0m\u001b[0;34m\u001b[0m\u001b[0m\n",
      "\u001b[0;31mAttributeError\u001b[0m: 'generator' object has no attribute 'next'"
     ]
    }
   ],
   "source": [
    "# Create a generator using 3 defined base colors\n",
    "colors=['green','orange','blue']\n",
    "gen=cf.colors.colorgen(colors)\n",
    "outputColors=[gen.next() for _ in range(15)]\n",
    "cf.colors.color_table(outputColors)"
   ]
  },
  {
   "cell_type": "code",
   "execution_count": null,
   "metadata": {},
   "outputs": [],
   "source": [
    "# Create a generator with default set of colors\n",
    "gen=cf.colors.colorgen()\n",
    "outputColors=[gen.next() for _ in range(15)]\n",
    "cf.colors.color_table(outputColors)"
   ]
  },
  {
   "cell_type": "code",
   "execution_count": null,
   "metadata": {},
   "outputs": [],
   "source": [
    "# We can see all available scales with\n",
    "cf.get_scales()"
   ]
  },
  {
   "cell_type": "code",
   "execution_count": null,
   "metadata": {},
   "outputs": [],
   "source": [
    "# Other color scales can be also seen here\n",
    "cf.colors.scales()"
   ]
  },
  {
   "cell_type": "code",
   "execution_count": null,
   "metadata": {},
   "outputs": [],
   "source": [
    "colorscale=cf.colors.get_scales('accent')\n",
    "cf.colors.color_table(colorscale)"
   ]
  },
  {
   "cell_type": "code",
   "execution_count": null,
   "metadata": {},
   "outputs": [],
   "source": []
  },
  {
   "cell_type": "code",
   "execution_count": null,
   "metadata": {},
   "outputs": [],
   "source": []
  },
  {
   "cell_type": "code",
   "execution_count": null,
   "metadata": {},
   "outputs": [],
   "source": []
  },
  {
   "cell_type": "code",
   "execution_count": null,
   "metadata": {},
   "outputs": [],
   "source": []
  },
  {
   "cell_type": "code",
   "execution_count": null,
   "metadata": {},
   "outputs": [],
   "source": []
  }
 ],
 "metadata": {
  "kernelspec": {
   "display_name": "Python 3",
   "language": "python",
   "name": "python3"
  }
 },
 "nbformat": 4,
 "nbformat_minor": 1
}
